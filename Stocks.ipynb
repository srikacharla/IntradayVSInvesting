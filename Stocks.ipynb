{
 "metadata": {
  "language_info": {
   "codemirror_mode": {
    "name": "ipython",
    "version": 3
   },
   "file_extension": ".py",
   "mimetype": "text/x-python",
   "name": "python",
   "nbconvert_exporter": "python",
   "pygments_lexer": "ipython3",
   "version": "3.8.5-final"
  },
  "orig_nbformat": 2,
  "kernelspec": {
   "name": "python3",
   "display_name": "Python 3"
  }
 },
 "nbformat": 4,
 "nbformat_minor": 2,
 "cells": [
  {
   "cell_type": "code",
   "execution_count": 1,
   "metadata": {},
   "outputs": [],
   "source": [
    "from os import walk\n",
    "import pandas as pd\n",
    "import numpy as np"
   ]
  },
  {
   "cell_type": "code",
   "execution_count": 2,
   "metadata": {},
   "outputs": [],
   "source": [
    "f = []\n",
    "files = []\n",
    "profitsDict = {}\n",
    "totalIntradayProfitOfAllCompanies = list()\n",
    "totalInvestingProfitOfAllCompanies = list()"
   ]
  },
  {
   "cell_type": "code",
   "execution_count": 3,
   "metadata": {},
   "outputs": [],
   "source": [
    "for (dirpath, dirnames, filenames) in walk(f\"FinalStocks\"):\n",
    "    f.extend(filenames)\n",
    "    break"
   ]
  },
  {
   "cell_type": "code",
   "execution_count": 4,
   "metadata": {},
   "outputs": [
    {
     "output_type": "stream",
     "name": "stdout",
     "text": [
      "['CSCO.csv', 'BAJAJFINSV.NS.csv', 'UAL.csv', 'ISRG.csv', 'NTPC.NS.csv', 'GILD.csv', 'SHREECEM.NS.csv', 'TM.csv', 'ULTRACEMCO.NS.csv', 'V.csv', 'SBIN.NS.csv', 'CHTR.csv', 'ICICIBANK.csv', 'MARUTI.NS.csv', 'ADBE.csv', 'ITC.NS.csv', 'PIDILITIND.NS.csv', 'JSWSTEEL.NS.csv', 'PEP.csv', 'COST.csv', 'MDLZ.csv', 'BKNG.csv', 'TSM.csv', 'SBUX.csv', 'INTU.csv', 'PG.csv', 'COALINDIA.NS.csv', 'CAT.csv', 'MCD.csv', 'AMZN.csv', 'INTC.csv', 'TXN.csv', 'TCS.csv', 'ADANIPORTS.NS.csv', 'KO.csv', 'DABUR.NS.csv', 'PYPL.csv', 'UPS.csv', 'MSFT.csv', 'ASIANPAINT.NS.csv', 'HDFC.csv', 'NVDA.csv', 'HD.csv', 'LT.NS.csv', 'CME.csv', 'CMCSA.csv', 'SBICARD.NS.csv', 'DMART.NS.csv', 'BPCL.NS.csv', 'ADANIGREEN.NS.csv', 'HDFCBANK.csv', 'FB.csv', 'TITAN.NS.csv', 'DIS.csv', 'WIPRO.NS.csv', 'BRITANNIA.NS.csv', 'BAJFINANCE.NS.csv', 'NFLX.csv', 'GODREJCP.NS.csv', 'ABT.csv', 'TSLA.csv', 'IOC.NS.csv', 'M&M.NS.csv', 'HDFCLIFE.NS.csv', 'HCLTECH.NS.csv', 'CIPLA.NS.csv', 'HINDZINC.NS.csv', 'DIVISLAB.NS.csv', 'KOTAKBANK.NS.csv', 'HEROMOTOCO.NS.csv', 'GOOG.csv', 'AVGO.csv', 'VZ.csv', 'AMGN.csv', 'ONGC.NS.csv', 'ADP.csv', 'HINDUNILVR.csv', 'DRREDDY.NS.csv', 'ICICIPRULI.NS.csv', 'BHARTIARTL.NS.csv', 'QCOM.csv', 'BAJAJ-AUTO.NS.csv', 'INFY.csv', 'BABA.csv', 'NESTLEIND.NS.csv', 'UNH.csv', 'FISV.csv', 'SUNPHARMA.NS.csv', 'MA.csv', 'TECHM.NS.csv', 'AAPL.csv', 'TMUS.csv', 'WMT.csv', 'SBILIFE.NS.csv', 'MU.csv', 'JNJ.csv', 'POWERGRID.NS.csv', 'CRM.csv', 'AXISBANK.NS.csv', 'RIL.csv']\n"
     ]
    }
   ],
   "source": [
    "print(f)"
   ]
  },
  {
   "cell_type": "code",
   "execution_count": 5,
   "metadata": {},
   "outputs": [],
   "source": [
    "for name in f:\n",
    "    files.append(pd.read_csv(f\"FinalStocks/{name}\"))"
   ]
  },
  {
   "cell_type": "code",
   "execution_count": 6,
   "metadata": {
    "tags": []
   },
   "outputs": [],
   "source": [
    "for i in range(0, len(files)):\n",
    "    columns = files[i].get([\"Date\", \"Open\", \"Close\"])\n",
    "    datesAsNumpy = columns.Date.array.to_numpy()\n",
    "    index = np.where(datesAsNumpy == \"2017-08-02\")\n",
    "    closeAsNumpy = columns.Close.array.to_numpy()\n",
    "    openAsNumpy = columns.Open.array.to_numpy()\n",
    "    startingCloseValue = closeAsNumpy[index]\n",
    "    endingCloseValue = closeAsNumpy[-1]\n",
    "    startingToClosingCloseValues = closeAsNumpy[index[0].tolist()[0]:-1]\n",
    "    startingToClosingOpenValues = openAsNumpy[index[0].tolist()[0]:-1]\n",
    "    totalIntradayProfit = 0\n",
    "    for index1 in range(0, len(startingToClosingCloseValues)):\n",
    "        totalIntradayProfit += (startingToClosingCloseValues[index1] - startingToClosingOpenValues[index1])\n",
    "    totalIntradayProfitOfAllCompanies.append(totalIntradayProfit)\n",
    "    totalInvestingProfitOfAllCompanies.append(endingCloseValue - startingCloseValue[0])\n"
   ]
  },
  {
   "cell_type": "code",
   "execution_count": 7,
   "metadata": {},
   "outputs": [],
   "source": [
    "profitsDict = {\"Name\": f, \"Intraday\": totalIntradayProfitOfAllCompanies,\n",
    "               \"Investing\": totalInvestingProfitOfAllCompanies}"
   ]
  },
  {
   "cell_type": "code",
   "execution_count": 8,
   "metadata": {},
   "outputs": [],
   "source": [
    "df = pd.DataFrame(profitsDict)\n"
   ]
  },
  {
   "cell_type": "code",
   "execution_count": 9,
   "metadata": {},
   "outputs": [],
   "source": [
    "df.to_csv(path_or_buf=\"Result/FinalProfitsIndia.csv\")"
   ]
  },
  {
   "cell_type": "code",
   "execution_count": 10,
   "metadata": {},
   "outputs": [
    {
     "output_type": "stream",
     "name": "stdout",
     "text": [
      "                 Name     Intraday    Investing\n0            CSCO.csv    -1.710000     9.670000\n1   BAJAJFINSV.NS.csv -7617.270000   787.140000\n2             UAL.csv   -85.630000   -33.240000\n3            ISRG.csv   228.570000   362.740000\n4         NTPC.NS.csv  -102.640000   -37.840000\n..                ...          ...          ...\n95            JNJ.csv   -18.470000    24.500000\n96   POWERGRID.NS.csv  -137.040000   -31.360000\n97            CRM.csv    51.890000   152.850000\n98    AXISBANK.NS.csv  -679.350000  -103.010000\n99            RIL.csv  -550.039293  1384.250122\n\n[100 rows x 3 columns]\n"
     ]
    }
   ],
   "source": [
    "print(df)"
   ]
  }
 ]
}