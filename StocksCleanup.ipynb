{
 "metadata": {
  "language_info": {
   "codemirror_mode": {
    "name": "ipython",
    "version": 3
   },
   "file_extension": ".py",
   "mimetype": "text/x-python",
   "name": "python",
   "nbconvert_exporter": "python",
   "pygments_lexer": "ipython3",
   "version": "3.8.5-final"
  },
  "orig_nbformat": 2,
  "kernelspec": {
   "name": "python3",
   "display_name": "Python 3"
  }
 },
 "nbformat": 4,
 "nbformat_minor": 2,
 "cells": [
  {
   "cell_type": "code",
   "execution_count": 1,
   "metadata": {},
   "outputs": [],
   "source": [
    "from os import walk\n",
    "import pandas as pd\n"
   ]
  },
  {
   "cell_type": "code",
   "execution_count": 2,
   "metadata": {},
   "outputs": [],
   "source": [
    "f = []\n",
    "for (dirpath, dirnames, filenames) in walk(f\"InitialStocks\"):\n",
    "    f.extend(filenames)\n",
    "    break"
   ]
  },
  {
   "cell_type": "code",
   "execution_count": 3,
   "metadata": {},
   "outputs": [
    {
     "output_type": "stream",
     "name": "stdout",
     "text": [
      "['CSCO.csv', 'UAL.csv', 'ISRG.csv', 'GILD.csv', 'TM.csv', 'V.csv', 'CHTR.csv', 'ADBE.csv', '.DS_Store', 'PEP.csv', 'COST.csv', 'MDLZ.csv', 'BKNG.csv', 'TSM.csv', 'SBUX.csv', 'INTU.csv', 'CAT.csv', 'MCD.csv', 'AMZN.csv', 'INTC.csv', 'TXN.csv', 'KO.csv', 'PYPL.csv', 'UPS.csv', 'MSFT.csv', 'NVDA.csv', 'HD.csv', 'CME.csv', 'CMCSA.csv', 'FB.csv', 'DIS.csv', 'NFLX.csv', 'ABT.csv', 'TSLA.csv', 'GOOG.csv', 'AVGO.csv', 'VZ.csv', 'AMGN.csv', 'ADP.csv', 'QCOM.csv', 'BABA.csv', 'UNH.csv', 'FISV.csv', 'MA.csv', 'AAPL.csv', 'TMUS.csv', 'WMT.csv', 'MU.csv', 'JNJ.csv', 'CRM.csv']\n"
     ]
    }
   ],
   "source": [
    "print(f)"
   ]
  },
  {
   "cell_type": "code",
   "execution_count": 4,
   "metadata": {},
   "outputs": [
    {
     "output_type": "stream",
     "name": "stdout",
     "text": [
      "50\n"
     ]
    }
   ],
   "source": [
    "print(len(f))"
   ]
  },
  {
   "cell_type": "code",
   "execution_count": 5,
   "metadata": {},
   "outputs": [],
   "source": [
    "files = []\n",
    "for name in f:\n",
    "    files.append(pd.read_csv(f\"InitialStocks/{name}\"))\n",
    "    if not name.endswith(\".csv\"):\n",
    "        files.pop()"
   ]
  },
  {
   "cell_type": "code",
   "execution_count": 7,
   "metadata": {},
   "outputs": [
    {
     "output_type": "stream",
     "name": "stdout",
     "text": [
      "49\n"
     ]
    }
   ],
   "source": [
    "print(len(files))"
   ]
  },
  {
   "cell_type": "code",
   "execution_count": 8,
   "metadata": {},
   "outputs": [
    {
     "output_type": "stream",
     "name": "stdout",
     "text": [
      "            Date   Open   High    Low  Close      Volume  Dividends  \\\n0     2001-06-13  12.95  13.15  12.78  12.84  69567200.0        0.0   \n1     2001-06-14  12.74  12.74  12.12  12.39  31979800.0        0.0   \n2     2001-06-15  12.33  12.64  12.31  12.58  14369300.0        0.0   \n3     2001-06-18  12.35  12.58  12.35  12.46   4019800.0        0.0   \n4     2001-06-19  12.58  12.62  12.42  12.49   5690300.0        0.0   \n...          ...    ...    ...    ...    ...         ...        ...   \n4849  2020-09-21  56.04  56.15  55.24  55.85   6384600.0        0.0   \n4850  2020-09-22  55.78  56.30  55.54  55.81   8876900.0        0.0   \n4851  2020-09-23  55.59  56.19  54.73  54.82   7038300.0        0.0   \n4852  2020-09-24  54.83  55.93  54.48  55.61   6233800.0        0.0   \n4853  2020-09-25  55.06  56.24  54.97  56.16   4743000.0        0.0   \n\n      Stock Splits  \n0                0  \n1                0  \n2                0  \n3                0  \n4                0  \n...            ...  \n4849             0  \n4850             0  \n4851             0  \n4852             0  \n4853             0  \n\n[4854 rows x 8 columns]\n"
     ]
    }
   ],
   "source": [
    "print(files[10])"
   ]
  },
  {
   "cell_type": "code",
   "execution_count": 9,
   "metadata": {},
   "outputs": [
    {
     "output_type": "stream",
     "name": "stdout",
     "text": [
      "1990-02-16 CSCO.csv\n2006-02-06 UAL.csv\n2000-06-16 ISRG.csv\n1992-01-22 GILD.csv\n1976-08-18 TM.csv\n2008-03-19 V.csv\n2010-01-05 CHTR.csv\n1986-08-13 ADBE.csv\n1972-06-01 .DS_Store\n1986-07-09 PEP.csv\n2001-06-13 COST.csv\n1999-03-31 MDLZ.csv\n1997-10-09 BKNG.csv\n1992-06-26 TSM.csv\n1993-03-12 SBUX.csv\n1962-01-02 INTU.csv\n1966-07-05 CAT.csv\n1997-05-15 MCD.csv\n1980-03-17 AMZN.csv\n1972-06-01 INTC.csv\n1962-01-02 TXN.csv\n2015-07-06 KO.csv\n1999-11-10 PYPL.csv\n1986-03-13 UPS.csv\n1999-01-22 MSFT.csv\n1981-09-22 NVDA.csv\n2002-12-06 HD.csv\n1980-03-17 CME.csv\n2012-05-18 CMCSA.csv\n1962-01-02 FB.csv\n2002-05-23 DIS.csv\n1980-03-17 NFLX.csv\n2010-06-29 ABT.csv\n2004-08-19 TSLA.csv\n2009-08-06 GOOG.csv\n1983-11-21 AVGO.csv\n1983-06-17 VZ.csv\n1980-03-17 AMGN.csv\n1991-12-13 ADP.csv\n2014-09-19 QCOM.csv\n1984-10-17 BABA.csv\n1986-09-25 UNH.csv\n2006-05-25 FISV.csv\n1980-12-12 MA.csv\n2007-04-19 AAPL.csv\n1972-08-25 TMUS.csv\n1984-06-01 WMT.csv\n1962-01-02 MU.csv\n2004-06-23 JNJ.csv\nCAT.csv\n"
     ]
    }
   ],
   "source": [
    "date = \"2021-09-09\"\n",
    "finalName = \"\"\n",
    "i = 0\n",
    "finali = 0\n",
    "for singleFile in files:\n",
    "    column = singleFile.get([\"Date\"])\n",
    "    print(column.get(\"Date\")[0],f[i] )\n",
    "    i += 1\n",
    "    if column.get(\"Date\")[0] < date:\n",
    "        date = column.get(\"Date\")[0]\n",
    "        finalName = singleFile\n",
    "        finali = i\n",
    "print(f[finali])\n"
   ]
  },
  {
   "cell_type": "code",
   "execution_count": 10,
   "metadata": {},
   "outputs": [],
   "source": [
    "oldestCompanyFile = finalName"
   ]
  },
  {
   "cell_type": "code",
   "execution_count": 11,
   "metadata": {},
   "outputs": [],
   "source": [
    "columns = []\n",
    "i = 0"
   ]
  },
  {
   "cell_type": "code",
   "execution_count": 12,
   "metadata": {},
   "outputs": [
    {
     "output_type": "stream",
     "name": "stdout",
     "text": [
      "CSCO.csv\n",
      "UAL.csv\n",
      "ISRG.csv\n",
      "GILD.csv\n",
      "TM.csv\n",
      "V.csv\n",
      "CHTR.csv\n",
      "ADBE.csv\n",
      ".DS_Store\n",
      "PEP.csv\n",
      "COST.csv\n",
      "MDLZ.csv\n",
      "BKNG.csv\n",
      "TSM.csv\n",
      "SBUX.csv\n",
      "INTU.csv\n",
      "CAT.csv\n",
      "MCD.csv\n",
      "AMZN.csv\n",
      "INTC.csv\n",
      "TXN.csv\n",
      "KO.csv\n",
      "PYPL.csv\n",
      "UPS.csv\n",
      "MSFT.csv\n",
      "NVDA.csv\n",
      "HD.csv\n",
      "CME.csv\n",
      "CMCSA.csv\n",
      "FB.csv\n",
      "DIS.csv\n",
      "NFLX.csv\n",
      "ABT.csv\n",
      "TSLA.csv\n",
      "GOOG.csv\n",
      "AVGO.csv\n",
      "VZ.csv\n",
      "AMGN.csv\n",
      "ADP.csv\n",
      "QCOM.csv\n",
      "BABA.csv\n",
      "UNH.csv\n",
      "FISV.csv\n",
      "MA.csv\n",
      "AAPL.csv\n",
      "TMUS.csv\n",
      "WMT.csv\n",
      "MU.csv\n",
      "JNJ.csv\n"
     ]
    }
   ],
   "source": [
    "for i in range(0, len(files)):\n",
    "    columns = files[i].get([\"Date\", \"Open\", \"Close\"])\n",
    "    oldestDates = oldestCompanyFile.get([\"Date\"])\n",
    "    differenceInLength = len(oldestDates) - len(\n",
    "        columns.get([\"Date\"]))\n",
    "    newerCompanyColumnOpen = ([0] * differenceInLength) + list(\n",
    "        columns.get(\"Open\"))\n",
    "    newerCompanyColumnClose = ([0] * differenceInLength) + list(\n",
    "        columns.get(\"Close\"))\n",
    "    dict = {'Date': oldestCompanyFile.get(\"Date\"), \"Open\": newerCompanyColumnOpen, \"Close\": newerCompanyColumnClose}\n",
    "    print(f[i])\n",
    "    df = pd.DataFrame(dict)\n",
    "\n",
    "    fileName = f[i]\n",
    "    df.to_csv(path_or_buf=\"CleanStocks/\" + fileName)\n",
    "    i += 1"
   ]
  },
  {
   "cell_type": "code",
   "execution_count": null,
   "metadata": {},
   "outputs": [],
   "source": []
  }
 ]
}